{
 "cells": [
  {
   "cell_type": "markdown",
   "id": "5abbcd7e",
   "metadata": {},
   "source": [
    "# Austin Bikeshare Analysis\n",
    "### Presented by: Bladimir Nunez\n",
    "### Updated: May 6, 2024"
   ]
  },
  {
   "cell_type": "markdown",
   "id": "52a4e99f",
   "metadata": {},
   "source": [
    "## Import Libaries"
   ]
  },
  {
   "cell_type": "code",
   "execution_count": 1,
   "id": "37c4dc5b",
   "metadata": {},
   "outputs": [
    {
     "name": "stdout",
     "output_type": "stream",
     "text": [
      "Requirement already satisfied: google-cloud-bigquery in /Users/bladimirnunez/anaconda3/lib/python3.11/site-packages (3.22.0)\n",
      "Requirement already satisfied: google-api-core[grpc]!=2.0.*,!=2.1.*,!=2.10.*,!=2.2.*,!=2.3.*,!=2.4.*,!=2.5.*,!=2.6.*,!=2.7.*,!=2.8.*,!=2.9.*,<3.0.0dev,>=1.34.1 in /Users/bladimirnunez/anaconda3/lib/python3.11/site-packages (from google-cloud-bigquery) (2.19.0)\n",
      "Requirement already satisfied: packaging>=20.0.0 in /Users/bladimirnunez/anaconda3/lib/python3.11/site-packages (from google-cloud-bigquery) (23.1)\n",
      "Requirement already satisfied: google-cloud-core<3.0.0dev,>=1.6.0 in /Users/bladimirnunez/anaconda3/lib/python3.11/site-packages (from google-cloud-bigquery) (2.4.1)\n",
      "Requirement already satisfied: google-resumable-media<3.0dev,>=0.6.0 in /Users/bladimirnunez/anaconda3/lib/python3.11/site-packages (from google-cloud-bigquery) (2.7.0)\n",
      "Requirement already satisfied: requests<3.0.0dev,>=2.21.0 in /Users/bladimirnunez/anaconda3/lib/python3.11/site-packages (from google-cloud-bigquery) (2.31.0)\n",
      "Requirement already satisfied: google-auth<3.0.0dev,>=2.14.1 in /Users/bladimirnunez/anaconda3/lib/python3.11/site-packages (from google-cloud-bigquery) (2.29.0)\n",
      "Requirement already satisfied: python-dateutil<3.0dev,>=2.7.2 in /Users/bladimirnunez/anaconda3/lib/python3.11/site-packages (from google-cloud-bigquery) (2.8.2)\n",
      "Requirement already satisfied: protobuf!=3.20.0,!=3.20.1,!=4.21.0,!=4.21.1,!=4.21.2,!=4.21.3,!=4.21.4,!=4.21.5,<5.0.0.dev0,>=3.19.5 in /Users/bladimirnunez/anaconda3/lib/python3.11/site-packages (from google-api-core[grpc]!=2.0.*,!=2.1.*,!=2.10.*,!=2.2.*,!=2.3.*,!=2.4.*,!=2.5.*,!=2.6.*,!=2.7.*,!=2.8.*,!=2.9.*,<3.0.0dev,>=1.34.1->google-cloud-bigquery) (4.25.3)\n",
      "Requirement already satisfied: proto-plus<2.0.0dev,>=1.22.3 in /Users/bladimirnunez/anaconda3/lib/python3.11/site-packages (from google-api-core[grpc]!=2.0.*,!=2.1.*,!=2.10.*,!=2.2.*,!=2.3.*,!=2.4.*,!=2.5.*,!=2.6.*,!=2.7.*,!=2.8.*,!=2.9.*,<3.0.0dev,>=1.34.1->google-cloud-bigquery) (1.23.0)\n",
      "Requirement already satisfied: googleapis-common-protos<2.0.dev0,>=1.56.2 in /Users/bladimirnunez/anaconda3/lib/python3.11/site-packages (from google-api-core[grpc]!=2.0.*,!=2.1.*,!=2.10.*,!=2.2.*,!=2.3.*,!=2.4.*,!=2.5.*,!=2.6.*,!=2.7.*,!=2.8.*,!=2.9.*,<3.0.0dev,>=1.34.1->google-cloud-bigquery) (1.63.0)\n",
      "Requirement already satisfied: grpcio<2.0dev,>=1.49.1 in /Users/bladimirnunez/anaconda3/lib/python3.11/site-packages (from google-api-core[grpc]!=2.0.*,!=2.1.*,!=2.10.*,!=2.2.*,!=2.3.*,!=2.4.*,!=2.5.*,!=2.6.*,!=2.7.*,!=2.8.*,!=2.9.*,<3.0.0dev,>=1.34.1->google-cloud-bigquery) (1.63.0)\n",
      "Requirement already satisfied: grpcio-status<2.0.dev0,>=1.33.2 in /Users/bladimirnunez/anaconda3/lib/python3.11/site-packages (from google-api-core[grpc]!=2.0.*,!=2.1.*,!=2.10.*,!=2.2.*,!=2.3.*,!=2.4.*,!=2.5.*,!=2.6.*,!=2.7.*,!=2.8.*,!=2.9.*,<3.0.0dev,>=1.34.1->google-cloud-bigquery) (1.62.2)\n",
      "Requirement already satisfied: cachetools<6.0,>=2.0.0 in /Users/bladimirnunez/anaconda3/lib/python3.11/site-packages (from google-auth<3.0.0dev,>=2.14.1->google-cloud-bigquery) (5.3.3)\n",
      "Requirement already satisfied: rsa<5,>=3.1.4 in /Users/bladimirnunez/anaconda3/lib/python3.11/site-packages (from google-auth<3.0.0dev,>=2.14.1->google-cloud-bigquery) (4.9)\n",
      "Requirement already satisfied: pyasn1-modules>=0.2.1 in /Users/bladimirnunez/anaconda3/lib/python3.11/site-packages (from google-auth<3.0.0dev,>=2.14.1->google-cloud-bigquery) (0.2.8)\n",
      "Requirement already satisfied: google-crc32c<2.0dev,>=1.0 in /Users/bladimirnunez/anaconda3/lib/python3.11/site-packages (from google-resumable-media<3.0dev,>=0.6.0->google-cloud-bigquery) (1.5.0)\n",
      "Requirement already satisfied: six>=1.5 in /Users/bladimirnunez/anaconda3/lib/python3.11/site-packages (from python-dateutil<3.0dev,>=2.7.2->google-cloud-bigquery) (1.16.0)\n",
      "Requirement already satisfied: urllib3<3,>=1.21.1 in /Users/bladimirnunez/anaconda3/lib/python3.11/site-packages (from requests<3.0.0dev,>=2.21.0->google-cloud-bigquery) (1.26.16)\n",
      "Requirement already satisfied: charset-normalizer<4,>=2 in /Users/bladimirnunez/anaconda3/lib/python3.11/site-packages (from requests<3.0.0dev,>=2.21.0->google-cloud-bigquery) (2.0.4)\n",
      "Requirement already satisfied: certifi>=2017.4.17 in /Users/bladimirnunez/anaconda3/lib/python3.11/site-packages (from requests<3.0.0dev,>=2.21.0->google-cloud-bigquery) (2023.7.22)\n",
      "Requirement already satisfied: idna<4,>=2.5 in /Users/bladimirnunez/anaconda3/lib/python3.11/site-packages (from requests<3.0.0dev,>=2.21.0->google-cloud-bigquery) (3.4)\n",
      "Requirement already satisfied: pyasn1<0.5.0,>=0.4.6 in /Users/bladimirnunez/anaconda3/lib/python3.11/site-packages (from pyasn1-modules>=0.2.1->google-auth<3.0.0dev,>=2.14.1->google-cloud-bigquery) (0.4.8)\n",
      "\u001b[33mWARNING: You are using pip version 21.3.1; however, version 24.0 is available.\n",
      "You should consider upgrading via the '/Users/bladimirnunez/anaconda3/bin/python -m pip install --upgrade pip' command.\u001b[0m\n",
      "Note: you may need to restart the kernel to use updated packages.\n"
     ]
    }
   ],
   "source": [
    "pip install google-cloud-bigquery"
   ]
  },
  {
   "cell_type": "code",
   "execution_count": 2,
   "id": "e241c6cc",
   "metadata": {},
   "outputs": [
    {
     "name": "stdout",
     "output_type": "stream",
     "text": [
      "Requirement already satisfied: google-auth in /Users/bladimirnunez/anaconda3/lib/python3.11/site-packages (2.29.0)\n",
      "Requirement already satisfied: cachetools<6.0,>=2.0.0 in /Users/bladimirnunez/anaconda3/lib/python3.11/site-packages (from google-auth) (5.3.3)\n",
      "Requirement already satisfied: pyasn1-modules>=0.2.1 in /Users/bladimirnunez/anaconda3/lib/python3.11/site-packages (from google-auth) (0.2.8)\n",
      "Requirement already satisfied: rsa<5,>=3.1.4 in /Users/bladimirnunez/anaconda3/lib/python3.11/site-packages (from google-auth) (4.9)\n",
      "Requirement already satisfied: pyasn1<0.5.0,>=0.4.6 in /Users/bladimirnunez/anaconda3/lib/python3.11/site-packages (from pyasn1-modules>=0.2.1->google-auth) (0.4.8)\n",
      "\u001b[33mWARNING: You are using pip version 21.3.1; however, version 24.0 is available.\n",
      "You should consider upgrading via the '/Users/bladimirnunez/anaconda3/bin/python -m pip install --upgrade pip' command.\u001b[0m\n",
      "Note: you may need to restart the kernel to use updated packages.\n"
     ]
    }
   ],
   "source": [
    "pip install google-auth"
   ]
  },
  {
   "cell_type": "code",
   "execution_count": 3,
   "id": "93aad068",
   "metadata": {},
   "outputs": [
    {
     "name": "stdout",
     "output_type": "stream",
     "text": [
      "Requirement already satisfied: google-auth-oauthlib in /Users/bladimirnunez/anaconda3/lib/python3.11/site-packages (1.2.0)\n",
      "Requirement already satisfied: requests-oauthlib>=0.7.0 in /Users/bladimirnunez/anaconda3/lib/python3.11/site-packages (from google-auth-oauthlib) (2.0.0)\n",
      "Requirement already satisfied: google-auth>=2.15.0 in /Users/bladimirnunez/anaconda3/lib/python3.11/site-packages (from google-auth-oauthlib) (2.29.0)\n",
      "Requirement already satisfied: cachetools<6.0,>=2.0.0 in /Users/bladimirnunez/anaconda3/lib/python3.11/site-packages (from google-auth>=2.15.0->google-auth-oauthlib) (5.3.3)\n",
      "Requirement already satisfied: rsa<5,>=3.1.4 in /Users/bladimirnunez/anaconda3/lib/python3.11/site-packages (from google-auth>=2.15.0->google-auth-oauthlib) (4.9)\n",
      "Requirement already satisfied: pyasn1-modules>=0.2.1 in /Users/bladimirnunez/anaconda3/lib/python3.11/site-packages (from google-auth>=2.15.0->google-auth-oauthlib) (0.2.8)\n",
      "Requirement already satisfied: requests>=2.0.0 in /Users/bladimirnunez/anaconda3/lib/python3.11/site-packages (from requests-oauthlib>=0.7.0->google-auth-oauthlib) (2.31.0)\n",
      "Requirement already satisfied: oauthlib>=3.0.0 in /Users/bladimirnunez/anaconda3/lib/python3.11/site-packages (from requests-oauthlib>=0.7.0->google-auth-oauthlib) (3.2.2)\n",
      "Requirement already satisfied: pyasn1<0.5.0,>=0.4.6 in /Users/bladimirnunez/anaconda3/lib/python3.11/site-packages (from pyasn1-modules>=0.2.1->google-auth>=2.15.0->google-auth-oauthlib) (0.4.8)\n",
      "Requirement already satisfied: urllib3<3,>=1.21.1 in /Users/bladimirnunez/anaconda3/lib/python3.11/site-packages (from requests>=2.0.0->requests-oauthlib>=0.7.0->google-auth-oauthlib) (1.26.16)\n",
      "Requirement already satisfied: certifi>=2017.4.17 in /Users/bladimirnunez/anaconda3/lib/python3.11/site-packages (from requests>=2.0.0->requests-oauthlib>=0.7.0->google-auth-oauthlib) (2023.7.22)\n",
      "Requirement already satisfied: idna<4,>=2.5 in /Users/bladimirnunez/anaconda3/lib/python3.11/site-packages (from requests>=2.0.0->requests-oauthlib>=0.7.0->google-auth-oauthlib) (3.4)\n",
      "Requirement already satisfied: charset-normalizer<4,>=2 in /Users/bladimirnunez/anaconda3/lib/python3.11/site-packages (from requests>=2.0.0->requests-oauthlib>=0.7.0->google-auth-oauthlib) (2.0.4)\n",
      "\u001b[33mWARNING: You are using pip version 21.3.1; however, version 24.0 is available.\n",
      "You should consider upgrading via the '/Users/bladimirnunez/anaconda3/bin/python -m pip install --upgrade pip' command.\u001b[0m\n",
      "Note: you may need to restart the kernel to use updated packages.\n"
     ]
    }
   ],
   "source": [
    "pip install google-auth-oauthlib"
   ]
  },
  {
   "cell_type": "code",
   "execution_count": 4,
   "id": "de27f1d6",
   "metadata": {},
   "outputs": [
    {
     "name": "stdout",
     "output_type": "stream",
     "text": [
      "Requirement already satisfied: db-dtypes in /Users/bladimirnunez/anaconda3/lib/python3.11/site-packages (1.2.0)\n",
      "Requirement already satisfied: packaging>=17.0 in /Users/bladimirnunez/anaconda3/lib/python3.11/site-packages (from db-dtypes) (23.1)\n",
      "Requirement already satisfied: pyarrow>=3.0.0 in /Users/bladimirnunez/anaconda3/lib/python3.11/site-packages (from db-dtypes) (11.0.0)\n",
      "Requirement already satisfied: pandas>=0.24.2 in /Users/bladimirnunez/anaconda3/lib/python3.11/site-packages (from db-dtypes) (2.0.3)\n",
      "Requirement already satisfied: numpy>=1.16.6 in /Users/bladimirnunez/anaconda3/lib/python3.11/site-packages (from db-dtypes) (1.24.3)\n",
      "Requirement already satisfied: tzdata>=2022.1 in /Users/bladimirnunez/anaconda3/lib/python3.11/site-packages (from pandas>=0.24.2->db-dtypes) (2023.3)\n",
      "Requirement already satisfied: pytz>=2020.1 in /Users/bladimirnunez/anaconda3/lib/python3.11/site-packages (from pandas>=0.24.2->db-dtypes) (2023.3.post1)\n",
      "Requirement already satisfied: python-dateutil>=2.8.2 in /Users/bladimirnunez/anaconda3/lib/python3.11/site-packages (from pandas>=0.24.2->db-dtypes) (2.8.2)\n",
      "Requirement already satisfied: six>=1.5 in /Users/bladimirnunez/anaconda3/lib/python3.11/site-packages (from python-dateutil>=2.8.2->pandas>=0.24.2->db-dtypes) (1.16.0)\n",
      "\u001b[33mWARNING: You are using pip version 21.3.1; however, version 24.0 is available.\n",
      "You should consider upgrading via the '/Users/bladimirnunez/anaconda3/bin/python -m pip install --upgrade pip' command.\u001b[0m\n",
      "Note: you may need to restart the kernel to use updated packages.\n"
     ]
    }
   ],
   "source": [
    "pip install db-dtypes"
   ]
  },
  {
   "cell_type": "code",
   "execution_count": 5,
   "id": "4657c917",
   "metadata": {},
   "outputs": [],
   "source": [
    "import pandas as pd\n",
    "import matplotlib.pyplot as plt\n",
    "from google.cloud import bigquery\n",
    "import os\n",
    "os.environ[\"GOOGLE_APPLICATION_CREDENTIALS\"] = \"/Users/bladimirnunez/Desktop/service-account.json\"\n"
   ]
  },
  {
   "cell_type": "markdown",
   "id": "8c2a1fdb",
   "metadata": {},
   "source": [
    "## Data Gathering"
   ]
  },
  {
   "cell_type": "code",
   "execution_count": 6,
   "id": "391bdfb5",
   "metadata": {},
   "outputs": [],
   "source": [
    "# Create a client to connect to BigQuery\n",
    "client = bigquery.Client()\n",
    "\n",
    "# query to get all data from table needed\n",
    "query_trips = \"\"\"\n",
    "SELECT *\n",
    "FROM `bigquery-public-data.austin_bikeshare.bikeshare_trips`\n",
    "\"\"\"\n",
    "\n",
    "# Execute the query and load the results into a pandas DataFrame\n",
    "df_trips = client.query(query_trips).to_dataframe()"
   ]
  },
  {
   "cell_type": "code",
   "execution_count": 7,
   "id": "7efbb60f",
   "metadata": {
    "scrolled": true
   },
   "outputs": [
    {
     "data": {
      "text/html": [
       "<div>\n",
       "<style scoped>\n",
       "    .dataframe tbody tr th:only-of-type {\n",
       "        vertical-align: middle;\n",
       "    }\n",
       "\n",
       "    .dataframe tbody tr th {\n",
       "        vertical-align: top;\n",
       "    }\n",
       "\n",
       "    .dataframe thead th {\n",
       "        text-align: right;\n",
       "    }\n",
       "</style>\n",
       "<table border=\"1\" class=\"dataframe\">\n",
       "  <thead>\n",
       "    <tr style=\"text-align: right;\">\n",
       "      <th></th>\n",
       "      <th>trip_id</th>\n",
       "      <th>subscriber_type</th>\n",
       "      <th>bike_id</th>\n",
       "      <th>bike_type</th>\n",
       "      <th>start_time</th>\n",
       "      <th>start_station_id</th>\n",
       "      <th>start_station_name</th>\n",
       "      <th>end_station_id</th>\n",
       "      <th>end_station_name</th>\n",
       "      <th>duration_minutes</th>\n",
       "    </tr>\n",
       "  </thead>\n",
       "  <tbody>\n",
       "    <tr>\n",
       "      <th>0</th>\n",
       "      <td>26781059</td>\n",
       "      <td>Student Membership</td>\n",
       "      <td>1434</td>\n",
       "      <td>classic</td>\n",
       "      <td>2022-05-29 02:31:50+00:00</td>\n",
       "      <td>7190</td>\n",
       "      <td>Rio Grande/12th</td>\n",
       "      <td>7190</td>\n",
       "      <td>Rio Grande/12th</td>\n",
       "      <td>2</td>\n",
       "    </tr>\n",
       "    <tr>\n",
       "      <th>1</th>\n",
       "      <td>26721314</td>\n",
       "      <td>Pay-as-you-ride</td>\n",
       "      <td>19688</td>\n",
       "      <td>electric</td>\n",
       "      <td>2022-05-20 18:58:04+00:00</td>\n",
       "      <td>7131</td>\n",
       "      <td>13th/Trinity @ Waterloo Greenway</td>\n",
       "      <td>4048</td>\n",
       "      <td>South Congress @ Bouldin Creek</td>\n",
       "      <td>38</td>\n",
       "    </tr>\n",
       "    <tr>\n",
       "      <th>2</th>\n",
       "      <td>26738437</td>\n",
       "      <td>3-Day Weekender</td>\n",
       "      <td>19303</td>\n",
       "      <td>electric</td>\n",
       "      <td>2022-05-22 21:43:21+00:00</td>\n",
       "      <td>7186</td>\n",
       "      <td>One Texas Center</td>\n",
       "      <td>4058</td>\n",
       "      <td>Hollow Creek/Barton Hills</td>\n",
       "      <td>35</td>\n",
       "    </tr>\n",
       "    <tr>\n",
       "      <th>3</th>\n",
       "      <td>26798640</td>\n",
       "      <td>Local365</td>\n",
       "      <td>18532</td>\n",
       "      <td>electric</td>\n",
       "      <td>2022-05-30 19:23:07+00:00</td>\n",
       "      <td>2569</td>\n",
       "      <td>East 11th/San Marcos</td>\n",
       "      <td>4055</td>\n",
       "      <td>11th/Salina</td>\n",
       "      <td>8</td>\n",
       "    </tr>\n",
       "    <tr>\n",
       "      <th>4</th>\n",
       "      <td>26725241</td>\n",
       "      <td>Local31</td>\n",
       "      <td>19437</td>\n",
       "      <td>electric</td>\n",
       "      <td>2022-05-21 12:21:23+00:00</td>\n",
       "      <td>4054</td>\n",
       "      <td>Rosewood/Chicon</td>\n",
       "      <td>2568</td>\n",
       "      <td>East 11th/Victory Grill</td>\n",
       "      <td>6</td>\n",
       "    </tr>\n",
       "  </tbody>\n",
       "</table>\n",
       "</div>"
      ],
      "text/plain": [
       "    trip_id     subscriber_type bike_id bike_type                start_time  \\\n",
       "0  26781059  Student Membership    1434   classic 2022-05-29 02:31:50+00:00   \n",
       "1  26721314     Pay-as-you-ride   19688  electric 2022-05-20 18:58:04+00:00   \n",
       "2  26738437     3-Day Weekender   19303  electric 2022-05-22 21:43:21+00:00   \n",
       "3  26798640            Local365   18532  electric 2022-05-30 19:23:07+00:00   \n",
       "4  26725241             Local31   19437  electric 2022-05-21 12:21:23+00:00   \n",
       "\n",
       "   start_station_id                start_station_name end_station_id  \\\n",
       "0              7190                   Rio Grande/12th           7190   \n",
       "1              7131  13th/Trinity @ Waterloo Greenway           4048   \n",
       "2              7186                  One Texas Center           4058   \n",
       "3              2569              East 11th/San Marcos           4055   \n",
       "4              4054                   Rosewood/Chicon           2568   \n",
       "\n",
       "                 end_station_name  duration_minutes  \n",
       "0                 Rio Grande/12th                 2  \n",
       "1  South Congress @ Bouldin Creek                38  \n",
       "2       Hollow Creek/Barton Hills                35  \n",
       "3                    11th/Salina                  8  \n",
       "4         East 11th/Victory Grill                 6  "
      ]
     },
     "execution_count": 7,
     "metadata": {},
     "output_type": "execute_result"
    }
   ],
   "source": [
    "df_trips.head()"
   ]
  },
  {
   "cell_type": "markdown",
   "id": "ed2ae807",
   "metadata": {},
   "source": [
    "## Exploratory Data Analysis"
   ]
  },
  {
   "cell_type": "code",
   "execution_count": null,
   "id": "84c070a2",
   "metadata": {},
   "outputs": [],
   "source": []
  },
  {
   "cell_type": "code",
   "execution_count": null,
   "id": "d1b69092",
   "metadata": {},
   "outputs": [],
   "source": []
  },
  {
   "cell_type": "markdown",
   "id": "d8f33535",
   "metadata": {},
   "source": [
    "## Advanced Analysis"
   ]
  },
  {
   "cell_type": "code",
   "execution_count": null,
   "id": "a7efb079",
   "metadata": {},
   "outputs": [],
   "source": []
  },
  {
   "cell_type": "code",
   "execution_count": null,
   "id": "5e3e63f1",
   "metadata": {},
   "outputs": [],
   "source": []
  },
  {
   "cell_type": "markdown",
   "id": "d75cf4b2",
   "metadata": {},
   "source": [
    "## Insights"
   ]
  },
  {
   "cell_type": "code",
   "execution_count": null,
   "id": "14205208",
   "metadata": {},
   "outputs": [],
   "source": []
  }
 ],
 "metadata": {
  "kernelspec": {
   "display_name": "Python 3 (ipykernel)",
   "language": "python",
   "name": "python3"
  },
  "language_info": {
   "codemirror_mode": {
    "name": "ipython",
    "version": 3
   },
   "file_extension": ".py",
   "mimetype": "text/x-python",
   "name": "python",
   "nbconvert_exporter": "python",
   "pygments_lexer": "ipython3",
   "version": "3.11.5"
  }
 },
 "nbformat": 4,
 "nbformat_minor": 5
}
